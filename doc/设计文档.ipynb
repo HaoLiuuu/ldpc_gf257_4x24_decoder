{
 "cells": [
  {
   "cell_type": "markdown",
   "metadata": {},
   "source": [
    "# 设计文档\n",
    "\n",
    "## 文档说明\n",
    "\n",
    "本文档包含多码率LDPC码的译码器的主要设计思路，以及实现细节，对于设计以及代码中的实现内的 trick 会着重提及，以保证该项目的可用性。\n",
    "\n",
    "## 整体介绍\n",
    "\n",
    "## 主要组成部分\n",
    "\n",
    "这是一个经典的 QC-LDPC 码硬件译码器的实现，基于 cpp 的译码算法可以参考另一个仓库中的内容。在这个经典的LDPC码硬件译码器的实现中，我们会设计到如下部分:\n",
    "\n",
    "计算模块：\n",
    "+ CPU\n",
    "+ VPU\n",
    "\n",
    "控制模块：\n",
    "+ controller\n",
    "\n",
    "存储模块：\n",
    "+ llr_ram\n",
    "\n",
    "\n",
    "\n",
    "\n",
    "\n",
    "\n"
   ]
  },
  {
   "cell_type": "markdown",
   "metadata": {},
   "source": [
    "## CPU\n",
    "\n",
    "\n"
   ]
  },
  {
   "cell_type": "code",
   "execution_count": null,
   "metadata": {
    "slideshow": {
     "slide_type": "slide"
    }
   },
   "outputs": [],
   "source": [
    "# 地址生成\n",
    "base = \"\\n\\\n",
    "always @(posedge clk) begin\\n\\\n",
    "\tif (vpu_addr_ena == 1'b1)  begin\\n\\\n",
    "\t\tvpu_addr_{port} <= vpu_addr_{port} + 1'b1;\\n\\\n",
    "\tend\\n\\\n",
    "\telse\\n\\\n",
    "\t\tvpu_addr_{port} <= row_start_{port};\\n\\\n",
    "end\\\n",
    "\"\n",
    "\n",
    "# for x in range(24):\n",
    "# \tprint(base.format(port=x))\n",
    "\n",
    "\n",
    "base_cpu = \"\\n\\\n",
    "always @(posedge clk) begin\\n\\\n",
    "\tif (cpu_addr_ena == 1'b1)  begin\\n\\\n",
    "\t\tcpu_addr_{port} <= cpu_addr_{port} + 1'b1;\\n\\\n",
    "\tend\\n\\\n",
    "\telse\\n\\\n",
    "\t\tcpu_addr_{port} <= 0;\\n\\\n",
    "end\\\n",
    "\"\n",
    "\n",
    "for x in range(24):\n",
    "\tprint(base_cpu.format(port=x))"
   ]
  },
  {
   "cell_type": "markdown",
   "metadata": {},
   "source": [
    "## VPU\n"
   ]
  },
  {
   "cell_type": "markdown",
   "metadata": {},
   "source": [
    "## controller\n"
   ]
  },
  {
   "cell_type": "markdown",
   "metadata": {},
   "source": [
    "## llr_ram"
   ]
  },
  {
   "cell_type": "markdown",
   "metadata": {},
   "source": [
    "## do 文件模板\n",
    "\n",
    "```do\n",
    "\n",
    "# 创建库及映射库\n",
    "vlib work\n",
    "vmap work work\n",
    "\n",
    "# 这里参数都是可选的 不加其实也可以\n",
    "# vlog -incr -work work ../../ip/\n",
    "\n",
    "vlog -incr -work work ../../rtl/ldpc_vpu.v\n",
    "vlog -incr -work work ../../tb/tb_ldpc_vpu.v\n",
    "\n",
    "# 固定格式，虽不知为何一定要用 -voptargs=+acc 但默认就是这种方式\n",
    "# 不加的话代码跑不下去\n",
    "vsim -voptargs=+acc work.tb_ldpc_vpu\n",
    "\n",
    "# 添加波形\n",
    "# 这里可以引入更加复杂的设置\n",
    "add wave -radix decimal sim:/tb_ldpc_vpu/*\n",
    "# add wave sim:/tb_ldpc_vpu/inst_ldpc_vpu/*\n",
    "\n",
    "# 指定以何种进制显示\n",
    "# Use binary, octal, decimal, signed, unsigned, hexadecimal, ascii or default. 默认二进制\n",
    "# add wave -radix hex sim:/tb_ldpc_vpu/llr_all\n",
    "# 指定以何种颜色显示\n",
    "# add wave -color Yellow sim:/tb_ldpc_vpu/llr_out_0\n",
    "\n",
    "# 选择需要加入的文件\n",
    "do wave.do\n",
    "\n",
    "view wave\n",
    "\n",
    "run -all\n",
    "\n",
    "```"
   ]
  },
  {
   "cell_type": "markdown",
   "metadata": {},
   "source": [
    "## 多码率设计\n",
    "\n",
    "多余多码率的 CPU 的设计需要更复杂一些，需要考虑到变化和不变的部分。\n",
    "\n",
    "1. 校验矩阵\n",
    "2. 生成矩阵\n",
    "\n",
    "基矩阵的几种情况：\n",
    "\n",
    "1. $4 \\times 8$\n",
    "2. $4 \\times 12$\n",
    "3. $4 \\times 16$\n",
    "4. $4 \\times 20$\n",
    "5. $4 \\times 24$\n",
    "\n",
    "\n",
    "因此，CPU 的连线会有变化，在需要增加选择器的情况下，我认为继续使用之前那种 `for` 循环生成子模块的方法似乎不太能继续用了，有些含糊不清。\n",
    "\n",
    "\n",
    "\n",
    "CPU 结构的变化，需要增加更多的选择器。\n"
   ]
  },
  {
   "cell_type": "code",
   "execution_count": 3,
   "metadata": {},
   "outputs": [
    {
     "name": "stdout",
     "output_type": "stream",
     "text": [
      "\n",
      "comp3in2out #(\n",
      "  .WIDTH(LLR_WIDTH-1)\n",
      ") inst_comp3in2out_0 (\n",
      "  .in_1     (llr_in_reg[0])  ,\n",
      "  .in_2     (llr_in_reg[1]),\n",
      "  .in_3     (llr_in_reg[2]),\n",
      "  .min_v    (as_min[0])        ,\n",
      "  .submin_v (as_submin[0])\n",
      ")\n",
      "\n",
      "comp3in2out #(\n",
      "  .WIDTH(LLR_WIDTH-1)\n",
      ") inst_comp3in2out_1 (\n",
      "  .in_1     (llr_in_reg[3])  ,\n",
      "  .in_2     (llr_in_reg[4]),\n",
      "  .in_3     (llr_in_reg[5]),\n",
      "  .min_v    (as_min[1])        ,\n",
      "  .submin_v (as_submin[1])\n",
      ")\n",
      "\n",
      "comp3in2out #(\n",
      "  .WIDTH(LLR_WIDTH-1)\n",
      ") inst_comp3in2out_2 (\n",
      "  .in_1     (llr_in_reg[6])  ,\n",
      "  .in_2     (llr_in_reg[7]),\n",
      "  .in_3     (llr_in_reg[8]),\n",
      "  .min_v    (as_min[2])        ,\n",
      "  .submin_v (as_submin[2])\n",
      ")\n",
      "\n",
      "comp3in2out #(\n",
      "  .WIDTH(LLR_WIDTH-1)\n",
      ") inst_comp3in2out_3 (\n",
      "  .in_1     (llr_in_reg[9])  ,\n",
      "  .in_2     (llr_in_reg[10]),\n",
      "  .in_3     (llr_in_reg[11]),\n",
      "  .min_v    (as_min[3])        ,\n",
      "  .submin_v (as_submin[3])\n",
      ")\n",
      "\n",
      "comp3in2out #(\n",
      "  .WIDTH(LLR_WIDTH-1)\n",
      ") inst_comp3in2out_4 (\n",
      "  .in_1     (llr_in_reg[12])  ,\n",
      "  .in_2     (llr_in_reg[13]),\n",
      "  .in_3     (llr_in_reg[14]),\n",
      "  .min_v    (as_min[4])        ,\n",
      "  .submin_v (as_submin[4])\n",
      ")\n",
      "\n",
      "comp3in2out #(\n",
      "  .WIDTH(LLR_WIDTH-1)\n",
      ") inst_comp3in2out_5 (\n",
      "  .in_1     (llr_in_reg[15])  ,\n",
      "  .in_2     (llr_in_reg[16]),\n",
      "  .in_3     (llr_in_reg[17]),\n",
      "  .min_v    (as_min[5])        ,\n",
      "  .submin_v (as_submin[5])\n",
      ")\n",
      "\n",
      "comp3in2out #(\n",
      "  .WIDTH(LLR_WIDTH-1)\n",
      ") inst_comp3in2out_6 (\n",
      "  .in_1     (llr_in_reg[18])  ,\n",
      "  .in_2     (llr_in_reg[19]),\n",
      "  .in_3     (llr_in_reg[20]),\n",
      "  .min_v    (as_min[6])        ,\n",
      "  .submin_v (as_submin[6])\n",
      ")\n",
      "\n",
      "comp3in2out #(\n",
      "  .WIDTH(LLR_WIDTH-1)\n",
      ") inst_comp3in2out_7 (\n",
      "  .in_1     (llr_in_reg[21])  ,\n",
      "  .in_2     (llr_in_reg[22]),\n",
      "  .in_3     (llr_in_reg[23]),\n",
      "  .min_v    (as_min[7])        ,\n",
      "  .submin_v (as_submin[7])\n",
      ")\n"
     ]
    }
   ],
   "source": [
    "# comp3in2out dut\n",
    "\n",
    "base = '''\n",
    "comp3in2out #(\n",
    "  .WIDTH(LLR_WIDTH-1)\n",
    ") inst_comp3in2out_{idx} (\n",
    "  .in_1     (llr_in_reg[{p1}])  ,\n",
    "  .in_2     (llr_in_reg[{p2}]),\n",
    "  .in_3     (llr_in_reg[{p3}]),\n",
    "  .min_v    (as_min[{idx}])        ,\n",
    "  .submin_v (as_submin[{idx}])\n",
    ")'''\n",
    "\n",
    "for i in range(8):\n",
    "  print(base.format(idx=i, p1=i*3, p2=i*3+1, p3=i*3+2))\n",
    "\n"
   ]
  }
 ],
 "metadata": {
  "kernelspec": {
   "display_name": "Python 3.10.9 ('base')",
   "language": "python",
   "name": "python3"
  },
  "language_info": {
   "codemirror_mode": {
    "name": "ipython",
    "version": 3
   },
   "file_extension": ".py",
   "mimetype": "text/x-python",
   "name": "python",
   "nbconvert_exporter": "python",
   "pygments_lexer": "ipython3",
   "version": "3.10.9"
  },
  "orig_nbformat": 4,
  "vscode": {
   "interpreter": {
    "hash": "a4b07d72305e9d553c23a4dc3e41e368b7955a7010714bad0b77543ba832301e"
   }
  }
 },
 "nbformat": 4,
 "nbformat_minor": 2
}
